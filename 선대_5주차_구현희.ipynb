{
  "nbformat": 4,
  "nbformat_minor": 0,
  "metadata": {
    "colab": {
      "provenance": [],
      "authorship_tag": "ABX9TyMvKMQRY8aA9UU1XcjuebnE",
      "include_colab_link": true
    },
    "kernelspec": {
      "name": "python3",
      "display_name": "Python 3"
    },
    "language_info": {
      "name": "python"
    }
  },
  "cells": [
    {
      "cell_type": "markdown",
      "metadata": {
        "id": "view-in-github",
        "colab_type": "text"
      },
      "source": [
        "<a href=\"https://colab.research.google.com/github/sooloin/gujohaejyo/blob/main/%EC%84%A0%EB%8C%80_5%EC%A3%BC%EC%B0%A8_%EA%B5%AC%ED%98%84%ED%9D%AC.ipynb\" target=\"_parent\"><img src=\"https://colab.research.google.com/assets/colab-badge.svg\" alt=\"Open In Colab\"/></a>"
      ]
    },
    {
      "cell_type": "code",
      "execution_count": null,
      "metadata": {
        "id": "jJrzV6EwmMkM"
      },
      "outputs": [],
      "source": [
        "#이동 실습\n",
        "import cv2\n",
        "import numpy as np\n",
        "#이미지를 컬러로 로드하여 넘파이 배열 형태로 img에 대입\n",
        "img = cv2.imread(\"D:\\workspace\\image.jpg\",cv2.IMREAD_COLOR)\n",
        "#이미지가 저장된 넘파이 배열의 너비와 높이를 구한다.\n",
        "height, width = img.shape[:2]\n",
        "#이동 변환 행렬을 생성, x방향으로 100, y방향으로 200픽셀 이동\n",
        "M = np.array([[1, 0, 100], [0, 1, 200], [0, 0, 1]], dtype=float)\n",
        "#결과 이미지를 저장할 넘파이 배열을 입력이미지와 같은 크기로 생성\n",
        "dst = np.zeros(img.shape, dtype=np.uint8)\n",
        "#이미지의 전체 픽셀을 스캔\n",
        "for y in range(height-1):\n",
        "  for x in range(width-1):\n",
        "    #현재 픽셀 p의 좌표에 이동 변환 행렬을 곱하여 이동시킨 좌표\n",
        "    #p_를 구한다.\n",
        "    p=np.array([x, y, 1])\n",
        "    p_=np.dot(M,p)\n",
        "    #이동한 위치인 p_에서 좌표 x_, y_를 정수 형태로 가져온다.\n",
        "    x_, y_=p_[:2]\n",
        "    x_=int(x_)\n",
        "    y_=int(y_)\n",
        "    #입력 이미지 크기 내로 픽셀이 이동한 경우에만 결과 이미지를 저장할 넘파이\n",
        "    #배열로 픽셀을 복사한다.\n",
        "    if x_>0 and x_<width and y_>0 and y_<height:\n",
        "      dst[y_,x_] = img[y,x]\n",
        "#입력 이미지와 결과 이미지를 수평으로 연결하여 하나의 이미지로 만든다.\n",
        "result = cv2.hconcat([img, dst])\n",
        "cv2.imshow(\"result\", result)\n",
        "cv2.waitKey(0)"
      ]
    },
    {
      "cell_type": "code",
      "source": [
        "# 회전 실습\n",
        "import cv2\n",
        "import numpy as np\n",
        "img = cv2.imread(\"D:\\workspace\\image.jpg\",cv2.IMREAD_COLOR)\n",
        "height, width = img.shape[:2]\n",
        "angle = 45\n",
        "radian = angle * np.pi/180\n",
        "c = np.cos(radian)\n",
        "s = np.sin(radian)\n",
        "center_x = width/2\n",
        "center_y = height/2\n",
        "rotation_matrix = np.array([[c,s,(1-c) * center_x - s*center_y], [-s,c,s*center_x + (1-c)*center_y], [0,0,1]])\n",
        "dst = np.zeros(img.shape,dtype = np.unit8)\n",
        "for y in range(height - 1):\n",
        "  for x in range(width - 1):\n",
        "    new_p = np.array([x, y, 1])\n",
        "    inv_rotation_matrix = np.linalg.inv(rotation_matrix)\n",
        "    old_p = np.dot(inv_rotation_matrix, new_p)\n",
        "    x_, y_ = old_p[:2]\n",
        "    x_ = int(x_)\n",
        "    y_ = int(y_)\n",
        "    if x_ > 0 and x_ < width and y_ > 0 and y_ < height:\n",
        "      dst[y,x] = img[y_, x_]\n",
        "result = cv2.hconcat([img, dst])\n",
        "cv2.imshow(\"result\", result)\n",
        "cv2.waitKey(0)"
      ],
      "metadata": {
        "id": "NFU2NsXfmR39"
      },
      "execution_count": null,
      "outputs": []
    }
  ]
}