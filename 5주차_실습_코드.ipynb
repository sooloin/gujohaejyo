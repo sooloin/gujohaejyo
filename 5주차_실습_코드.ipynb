{
  "nbformat": 4,
  "nbformat_minor": 0,
  "metadata": {
    "colab": {
      "provenance": [],
      "authorship_tag": "ABX9TyNvPFyyeaCHEPdYL+DeVoMM",
      "include_colab_link": true
    },
    "kernelspec": {
      "name": "python3",
      "display_name": "Python 3"
    },
    "language_info": {
      "name": "python"
    }
  },
  "cells": [
    {
      "cell_type": "markdown",
      "metadata": {
        "id": "view-in-github",
        "colab_type": "text"
      },
      "source": [
        "<a href=\"https://colab.research.google.com/github/sooloin/gujohaejyo/blob/main/5%EC%A3%BC%EC%B0%A8_%EC%8B%A4%EC%8A%B5_%EC%BD%94%EB%93%9C.ipynb\" target=\"_parent\"><img src=\"https://colab.research.google.com/assets/colab-badge.svg\" alt=\"Open In Colab\"/></a>"
      ]
    },
    {
      "cell_type": "code",
      "execution_count": null,
      "metadata": {
        "id": "j4WNW9D9z3eM"
      },
      "outputs": [],
      "source": [
        "import cv2\n",
        "import numpy as np\n",
        "\n",
        "img=cv2.imread('D:\\\\worksapce2\\\\image.jpg', cv2.IMREAD_COROR)\n",
        "height, width = img.shape[:2]\n",
        "M=np.array([[1,0,100], [0,1,200], [0.0.1]], dtype=float)\n",
        "\n",
        "dst=np.zeros(img.shape, dtype=np.unit8)\n",
        "for y in range(height-1):\n",
        "  for x in range(width-1):\n",
        "    p=np.array([x,y,1])\n",
        "    p_np.dot(M,p)\n",
        "    x_, y_ = p_[:2]\n",
        "    x_=int(x_)\n",
        "    y=int(y_)\n",
        "    if x_>0 and x_<width and y_>0 and y_<height:\n",
        "      dst[y_,x_]=img[y,x]\n",
        "\n",
        "  result=cv2.hconcat([img,dst])\n",
        "  cv2.imshow(\"result\", result)\n",
        "  cv2.waitKey(0)"
      ]
    },
    {
      "cell_type": "code",
      "source": [
        "import cv2\n",
        "import numpy as np\n",
        "\n",
        "img=cv2.imread('D:\\\\worksapce2\\\\image.jpg', cv2.IMREAD_COROR)\n",
        "height, width = img.shape[:2]\n",
        "M=np.array([[1,0,100], [0,1,200], [0.0.1]], dtype=float)\n",
        "\n",
        "dst=cv2.warpAffine(img,M,(width, height))\n",
        "result=cv2.hconcat([img, dst])\n",
        "  cv2.imshow(\"result\", result)\n",
        "  cv2.waitKey(0)"
      ],
      "metadata": {
        "id": "S16VA1Rw1BC3"
      },
      "execution_count": null,
      "outputs": []
    },
    {
      "cell_type": "code",
      "source": [
        "import cv2\n",
        "import numpy as np\n",
        "\n",
        "img=cv2.imread('D:\\\\worksapce2\\\\image.jpg', cv2.IMREAD_COROR)\n",
        "height, width = img.shape[:2]\n",
        "angle=45\n",
        "radian=angle*np.pi/180\n",
        "c=np.dos(radian)\n",
        "s=np.sin(radian)\n",
        "center_x=width/2\n",
        "center_y=height/2\n",
        "rotation_matrix=np.arra([[c,s,(1-c)*center_x=s*center_y],[-s,c,s*center_x+(1-c)*center_y], [0,0,1]])\n",
        "\n",
        "dst=np.zeros(img.shape, dtype=np.unit8)\n",
        "for y in range(height-1):\n",
        "  for x in range(width-1):\n",
        "    new_p=np.array([x,y,1])\n",
        "    inv_rotation_matrix=np.linalg.inv(rotation_matrix)\n",
        "    old_p=np.dot(inv_rotation_matrix,new_p)\n",
        "    x_,y_=old_p[:2]\n",
        "    x_=int(x_)\n",
        "    y_=int(y_)\n",
        "    if x_>0 and x_ <width and y_>0 and y_<height:\n",
        "      dst[y,x]=img[y_,x_]\n",
        "\n",
        "result=cv2.hconcat([img, dst])\n",
        "cv2.imshow(\"result\", result)\n",
        "cv2.waitKey(0)"
      ],
      "metadata": {
        "id": "SfVptURN1fGn"
      },
      "execution_count": null,
      "outputs": []
    },
    {
      "cell_type": "code",
      "source": [
        "import cv2\n",
        "import numpy as np\n",
        "\n",
        "img=cv2.imread('D:\\\\worksapce2\\\\image.jpg', cv2.IMREAD_COROR)\n",
        "height, width = img.shape[:2]\n",
        "sacle_factor=0.5\n",
        "scaling_matrix=np.array([[scale_factor,0,0],[0,scale_factor,0],[0,0,1]])\n",
        "dst=np.zeros((height, width, img.shape[2]), dtype=np.unit8)\n",
        "for y in range(height-1):\n",
        "  for x in range(width-1):\n",
        "    new_p=np.array([x,y,1])\n",
        "    inv_scaling_matrix=np.linalg.inv(scaling_matrix)\n",
        "    old_p=np.dot(inv_scaling_matrix, new_p)\n",
        "    x_,y_=old_p[:2]\n",
        "    x_=int(x_)\n",
        "    y_=int(y_)\n",
        "    if x_>0 and x_ <width and y_>0 and y_<height:\n",
        "      dst.itemset((y,x,0),img.item(y_,x_,0))\n",
        "      dst.itemset((y,x,1),img.item(y_,x_,1))\n",
        "      dst.itemset((y,x,2),img.item(y_,x_,2))\n",
        "\n",
        "result=cv2.hconcat([img, dst])\n",
        "cv2.imshow(\"result\", result)\n",
        "cv2.waitKey(0)"
      ],
      "metadata": {
        "id": "hEZgr9iC2x2f"
      },
      "execution_count": null,
      "outputs": []
    }
  ]
}