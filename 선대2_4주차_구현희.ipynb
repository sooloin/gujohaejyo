{
  "cells": [
    {
      "cell_type": "markdown",
      "metadata": {
        "id": "view-in-github",
        "colab_type": "text"
      },
      "source": [
        "<a href=\"https://colab.research.google.com/github/sooloin/gujohaejyo/blob/main/%EC%84%A0%EB%8C%802_4%EC%A3%BC%EC%B0%A8_%EA%B5%AC%ED%98%84%ED%9D%AC.ipynb\" target=\"_parent\"><img src=\"https://colab.research.google.com/assets/colab-badge.svg\" alt=\"Open In Colab\"/></a>"
      ]
    },
    {
      "cell_type": "code",
      "execution_count": null,
      "metadata": {
        "colab": {
          "base_uri": "https://localhost:8080/"
        },
        "id": "bSLRFueRZYwq",
        "outputId": "1493f0b1-4d34-46ef-f4f1-61c78f681246"
      },
      "outputs": [
        {
          "name": "stdout",
          "output_type": "stream",
          "text": [
            "[0, 0, 0]\n",
            "[0 0 0]\n"
          ]
        }
      ],
      "source": [
        "#넘파이 없이\n",
        "A=[1,2,3]\n",
        "B=[-1,-2,-3]\n",
        "C=[]\n",
        "\n",
        "for a,b in zip(A,B):\n",
        "  C.append(a+b)\n",
        "\n",
        "print(C)\n",
        "#넘파이 사용. 리스트 사용하는 것보다 빠르다.\n",
        "import numpy as np\n",
        "\n",
        "A=np.array([1,2,3])\n",
        "B=np.array([-1,-2,-3])\n",
        "C=A+B\n",
        "\n",
        "print(C)"
      ]
    },
    {
      "cell_type": "code",
      "execution_count": null,
      "metadata": {
        "colab": {
          "base_uri": "https://localhost:8080/"
        },
        "id": "EXIZz2wWao-0",
        "outputId": "4d69b261-6521-4602-a057-2882e34b22d6"
      },
      "outputs": [
        {
          "name": "stdout",
          "output_type": "stream",
          "text": [
            "[0.1 0.2 0.3]\n"
          ]
        },
        {
          "data": {
            "text/plain": [
              "numpy.int64"
            ]
          },
          "execution_count": 18,
          "metadata": {},
          "output_type": "execute_result"
        }
      ],
      "source": [
        "import numpy as np\n",
        "a=np.array([0.1, 0.2, 0.3])\n",
        "print(a)\n",
        "a\n",
        "\n",
        "a.dtype\n",
        "type(a[0])\n",
        "b=[1,2,3]\n",
        "b=np.array(b)\n",
        "b\n",
        "b.dtype\n",
        "type(b[0])\n",
        "c=np.array([1,2,3])\n",
        "c\n",
        "c.dtype\n",
        "type(c[0])\n",
        "\n",
        "d=np.array([1.1,2.2,3.3,4.9])\n",
        "d.dtype\n",
        "e=d.astype(np.int32)\n",
        "e\n",
        "\n",
        "A=np.array([[1,2,3],[4,5,6]])\n",
        "A\n",
        "type(A)\n",
        "\n",
        "#.ndim : 배열을 구성하는 차원의 개수\n",
        "A\n",
        "A.ndim\n",
        "#배열을 구성하는 차원의 개수와 차원별 크기를 튜플로 나타낸 것\n",
        "A\n",
        "A.shape\n",
        "\n",
        "#.size() : 배열에 있는 모든 원소의 개수\n",
        "A\n",
        "A.size\n",
        "\n",
        "#.dtype : 배열의 데이터 타입을 나타낸다.\n",
        "A.itemsize\n",
        "\n",
        "#.data : 배열 원소를 실제로 저장하고 있는 버퍼\n",
        "A\n",
        "A.data\n",
        "\n",
        "#배열 원소에 대한 최대, 최소, 총합, 평균 등 연산 메소드 제공\n",
        "b=np.array([1,2,3,4,5,6])\n",
        "b.max()\n",
        "b.min()\n",
        "b.sum()\n",
        "b.mean()\n",
        "b.std()\n",
        "\n",
        "#계산할 차원 방향을 지정하여 계산할 수 있다.\n",
        "c=np.array([[1,2], [3,4]])\n",
        "c\n",
        "c.sum(axis=0)\n",
        "c.sum(axis=1)\n"
      ]
    },
    {
      "cell_type": "code",
      "execution_count": null,
      "metadata": {
        "colab": {
          "base_uri": "https://localhost:8080/"
        },
        "id": "KGrFyr9wkB49",
        "outputId": "7824e3b7-7acc-412b-fe32-3e0538feef11"
      },
      "outputs": [
        {
          "name": "stdout",
          "output_type": "stream",
          "text": [
            "[[ 0  1  2  3]\n",
            " [ 4  5  6  7]\n",
            " [ 8  9 10 11]]\n",
            "(3, 4)\n"
          ]
        }
      ],
      "source": [
        "#넘파이 배열 시각화 방법 - 2차원\n",
        "import numpy as np\n",
        "B=np.array([[0,1,2,3], [4,5,6,7], [8,9,10, 11]])\n",
        "print(B)\n",
        "print(B.shape)"
      ]
    },
    {
      "cell_type": "code",
      "execution_count": null,
      "metadata": {
        "colab": {
          "base_uri": "https://localhost:8080/"
        },
        "id": "iwbI5dhnRNPM",
        "outputId": "0778f7c9-5c16-432b-f5d6-9d110e544304"
      },
      "outputs": [
        {
          "name": "stdout",
          "output_type": "stream",
          "text": [
            "[[[ 0  1  2  3]\n",
            "  [ 4  5  6  7]\n",
            "  [ 8  9 10 11]]\n",
            "\n",
            " [[12 13 14 15]\n",
            "  [16 17 18 19]\n",
            "  [20 21 22 23]]]\n",
            "(2, 3, 4)\n"
          ]
        }
      ],
      "source": [
        "#넘파이 배열 시각화 방법 - 3차원 배열\n",
        "import numpy as np\n",
        "# 크기가 24인 1차원 배열을 생성한 후, 이를 2x3x4의 3차원 배열로 모양을 변경\n",
        "C = np.arange(24).reshape(2, 3, 4)\n",
        "print(C)\n",
        "print(C.shape)"
      ]
    },
    {
      "cell_type": "code",
      "execution_count": null,
      "metadata": {
        "colab": {
          "base_uri": "https://localhost:8080/"
        },
        "id": "NPeng-k8R-KJ",
        "outputId": "79bdf08c-5113-4b0b-e62a-f0c5d9b57b8b"
      },
      "outputs": [
        {
          "output_type": "execute_result",
          "data": {
            "text/plain": [
              "0.6413037089999989"
            ]
          },
          "metadata": {},
          "execution_count": 4
        }
      ],
      "source": [
        "#넘파이 배열 시각화 방법 (2)\n",
        "import timeit\n",
        "timeit.timeit('[i**2 for i in A]', setup='A=range(100)')\n",
        "timeit.timeit('B**2', setup='import numpy as np; B = np.arange(100)')"
      ]
    },
    {
      "cell_type": "code",
      "source": [
        "#정해진 크기 배열 생성함수\n",
        "#배열의 데이터 개수를 알고 있을 때 사용할 수 있는 함수 : zeros\n",
        "import numpy as np\n",
        "A=np.zeros(2,3)\n",
        "print(A)\n",
        "print(A.dtype)"
      ],
      "metadata": {
        "id": "jCj1pTk5TZC7"
      },
      "execution_count": null,
      "outputs": []
    },
    {
      "cell_type": "code",
      "source": [
        "#ones함수\n",
        "import numpy as np\n",
        "A=np.ones((2,3))\n",
        "print(A)\n",
        "print(A.dtype)"
      ],
      "metadata": {
        "colab": {
          "base_uri": "https://localhost:8080/"
        },
        "id": "DZPcSk8yT6qX",
        "outputId": "72d45e73-8e9b-4bf6-c66f-2ffad9ab2768"
      },
      "execution_count": null,
      "outputs": [
        {
          "output_type": "stream",
          "name": "stdout",
          "text": [
            "[[1. 1. 1.]\n",
            " [1. 1. 1.]]\n",
            "float64\n"
          ]
        }
      ]
    },
    {
      "cell_type": "code",
      "source": [
        "#random 함수 : 0~1 사이의 무작위 값으로 채워진 배열 생성\n",
        "import numpy as np\n",
        "A=np.random.random((3,3))\n",
        "print(A)\n",
        "print(A.dtype)"
      ],
      "metadata": {
        "id": "gcTER6jHUGyl"
      },
      "execution_count": null,
      "outputs": []
    },
    {
      "cell_type": "code",
      "source": [
        "#empty함수 : 초기화되지 않도록 지정된 크기의 배열 생성.\n",
        "#초기화되지 않기 때문에 생성 속도 빠름\n",
        "import numpy as np\n",
        "A=np.empty((5,5))\n",
        "print(A)\n",
        "print(A.dtype)\n"
      ],
      "metadata": {
        "id": "eeO-ZyREUbrh"
      },
      "execution_count": null,
      "outputs": []
    },
    {
      "cell_type": "code",
      "source": [
        "#randint() :\n",
        "import numpy as np\n",
        "A=np.random.randint(1,10,(2,2))\n",
        "print(A)\n",
        "print(A.dtype)"
      ],
      "metadata": {
        "id": "1FjNa7fQU0ww"
      },
      "execution_count": null,
      "outputs": []
    },
    {
      "cell_type": "code",
      "execution_count": null,
      "metadata": {
        "colab": {
          "base_uri": "https://localhost:8080/"
        },
        "id": "raTGTCb6f_yE",
        "outputId": "ef48cb4e-2c9f-407a-e476-1e4a448be7d0"
      },
      "outputs": [
        {
          "name": "stdout",
          "output_type": "stream",
          "text": [
            "[ 0  5 10 15 20 25 30 35 40 45]\n",
            "[0.1 1.1 2.1]\n",
            "[0 1 2 3 4 5 6 7 8 9]\n"
          ]
        }
      ],
      "source": [
        "#연속 연소 배열 생성 함수\n",
        "import numpy as np\n",
        "A=np.arange(0,50,5) #0부터 49까지 5씩 증가시키면서 배열 생성\n",
        "print(A)\n",
        "B=np.arange(0.1,2.5)\n",
        "print(B)\n",
        "C=np.arange(10)\n",
        "print(C)\n"
      ]
    },
    {
      "cell_type": "code",
      "execution_count": null,
      "metadata": {
        "colab": {
          "base_uri": "https://localhost:8080/"
        },
        "id": "qaFbrJ2_g0uH",
        "outputId": "d4a2a4dc-ad54-45fb-e245-54389f840142"
      },
      "outputs": [
        {
          "name": "stdout",
          "output_type": "stream",
          "text": [
            "[ 0.          1.11111111  2.22222222  3.33333333  4.44444444  5.55555556\n",
            "  6.66666667  7.77777778  8.88888889 10.        ]\n",
            "[  0.           2.04081633   4.08163265   6.12244898   8.16326531\n",
            "  10.20408163  12.24489796  14.28571429  16.32653061  18.36734694\n",
            "  20.40816327  22.44897959  24.48979592  26.53061224  28.57142857\n",
            "  30.6122449   32.65306122  34.69387755  36.73469388  38.7755102\n",
            "  40.81632653  42.85714286  44.89795918  46.93877551  48.97959184\n",
            "  51.02040816  53.06122449  55.10204082  57.14285714  59.18367347\n",
            "  61.2244898   63.26530612  65.30612245  67.34693878  69.3877551\n",
            "  71.42857143  73.46938776  75.51020408  77.55102041  79.59183673\n",
            "  81.63265306  83.67346939  85.71428571  87.75510204  89.79591837\n",
            "  91.83673469  93.87755102  95.91836735  97.95918367 100.        ]\n"
          ]
        }
      ],
      "source": [
        "#linspace 함수 : 지정한 범위 내에 원하는 원소 개수로 숫자를 뽑아서 배열 생성\n",
        "import numpy as np\n",
        "A=np.linspace(0,10,10)\n",
        "print(A)\n",
        "B=np.linspace(0,100)\n",
        "print(B)\n"
      ]
    },
    {
      "cell_type": "code",
      "execution_count": null,
      "metadata": {
        "colab": {
          "base_uri": "https://localhost:8080/"
        },
        "id": "rb6BWTKRhJLS",
        "outputId": "de6d9e37-5d99-4351-8a00-d13ef1aba2b1"
      },
      "outputs": [
        {
          "name": "stdout",
          "output_type": "stream",
          "text": [
            "[[ 0  1  2  3]\n",
            " [ 4  5  6  7]\n",
            " [ 8  9 10 11]\n",
            " [12 13 14 15]]\n",
            "(4, 4)\n",
            "[ 0  1  2  3  4  5  6  7  8  9 10 11 12 13 14 15]\n",
            "True\n",
            "[-1 -1 -1 -1  4  5  6  7  8  9 10 11 12 13 14 15]\n",
            "[[-1 -1 -1 -1]\n",
            " [ 4  5  6  7]\n",
            " [ 8  9 10 11]\n",
            " [12 13 14 15]]\n",
            "[[-1 -1 -1 -1  4  5  6  7]\n",
            " [ 8  9 10 11 12 13 14 15]]\n",
            "(2, 8)\n",
            "[[-1 -1 -1 -1]\n",
            " [ 4  5  6  7]\n",
            " [ 8  9 10 11]\n",
            " [12 13 14 15]]\n",
            "[[ 0  0  0  0  0  0  0  0]\n",
            " [ 8  9 10 11 12 13 14 15]]\n"
          ]
        }
      ],
      "source": [
        "#연속 연소 배열 생성함수 2\n",
        "#reshape() 함수는 배열의 모양(shape)을 변경하여 새로운 배열을 생성\n",
        "import numpy as np\n",
        "\n",
        "A=np.arange(16)\n",
        "B=A.reshape(4,4)\n",
        "print(B)\n",
        "print(B.shape)\n",
        "print(B.base)\n",
        "print(B.base is A)\n",
        "\n",
        "B[0]=-1\n",
        "print(A)\n",
        "print(B)\n",
        "\n",
        "C=B.reshape(2,8).copy()\n",
        "print(C)\n",
        "print(C.shape)\n",
        "C[0]=0\n",
        "print(B)\n",
        "print(C)\n"
      ]
    },
    {
      "cell_type": "code",
      "source": [
        "#연속 연소 배열 생성 함수 (3)\n",
        "#ravel함수 : 배열을 1차원 배열로 변환하여 리턴\n",
        "import numpy as np\n",
        "A=np.array([[1,2], [3,4]])\n",
        "print(A)\n",
        "print(A.shape)\n",
        "B=A.ravel()\n",
        "print(B)\n",
        "print(B.shape)\n",
        "print(B.base)\n",
        "print(B.base is A)\n"
      ],
      "metadata": {
        "colab": {
          "base_uri": "https://localhost:8080/"
        },
        "id": "ZWN5AmC-VSX-",
        "outputId": "65c29188-22d3-4374-918d-8a34707ec046"
      },
      "execution_count": null,
      "outputs": [
        {
          "output_type": "stream",
          "name": "stdout",
          "text": [
            "[[1 2]\n",
            " [3 4]]\n",
            "(2, 2)\n",
            "[1 2 3 4]\n",
            "(4,)\n",
            "[[1 2]\n",
            " [3 4]]\n",
            "True\n"
          ]
        }
      ]
    },
    {
      "cell_type": "code",
      "source": [
        "#연속 연소 배열 생성함수(3)\n",
        "#resize함수 : 뷰를 생성하지 않고, 배열의 shape를 직접 바꾼다.\n",
        "import numpy as np\n",
        "A=np.arange(12)\n",
        "print(A)\n",
        "A.resize(3,4)\n",
        "print(A)\n"
      ],
      "metadata": {
        "colab": {
          "base_uri": "https://localhost:8080/"
        },
        "id": "hSOP1L46WE0L",
        "outputId": "d7f39113-da70-42a1-9f91-8c329ead39df"
      },
      "execution_count": null,
      "outputs": [
        {
          "output_type": "stream",
          "name": "stdout",
          "text": [
            "[ 0  1  2  3  4  5  6  7  8  9 10 11]\n",
            "[[ 0  1  2  3]\n",
            " [ 4  5  6  7]\n",
            " [ 8  9 10 11]]\n"
          ]
        }
      ]
    },
    {
      "cell_type": "code",
      "source": [
        "#연속 연소 배열 생성함수(3)\n",
        "#newaxis 함수 : 배열의 차원을 증가시킴.\n",
        "#1차원 배열을 열벡터 또는 행벡터로 바꿀 때 사용할 수 있다.\n",
        "import numpy as np\n",
        "A=np.array([1,2,3])\n",
        "A=A[:,np.newaxis]\n",
        "print(A.shape)\n",
        "print(A)\n",
        "B=np.array([4,5,6])\n",
        "B=B[np.newaxis,:]\n",
        "print(B.shape)\n",
        "print(B)"
      ],
      "metadata": {
        "colab": {
          "base_uri": "https://localhost:8080/"
        },
        "id": "hA8yW-1PWp_k",
        "outputId": "7d4bb2b6-691a-4123-957b-d6bc1870a5af"
      },
      "execution_count": null,
      "outputs": [
        {
          "output_type": "stream",
          "name": "stdout",
          "text": [
            "(3, 1)\n",
            "[[1]\n",
            " [2]\n",
            " [3]]\n",
            "(1, 3)\n",
            "[[4 5 6]]\n"
          ]
        }
      ]
    },
    {
      "cell_type": "code",
      "source": [
        "#배열 결합 함수\n",
        "#vstack함수는 배열을 열 방향으로 결합\n",
        "import numpy as np\n",
        "A=np.array([[1,2], [3,4]])\n",
        "B=np.array([[1,0], [0,1]])\n",
        "print(A)\n",
        "print(B)\n",
        "C=np.vstack((A,B))\n",
        "print(C)\n"
      ],
      "metadata": {
        "colab": {
          "base_uri": "https://localhost:8080/"
        },
        "id": "T8xU-GctXR30",
        "outputId": "033ed264-2b50-436d-9fa0-464fd8ece359"
      },
      "execution_count": null,
      "outputs": [
        {
          "output_type": "stream",
          "name": "stdout",
          "text": [
            "[[1 2]\n",
            " [3 4]]\n",
            "[[1 0]\n",
            " [0 1]]\n",
            "[[1 2]\n",
            " [3 4]\n",
            " [1 0]\n",
            " [0 1]]\n"
          ]
        }
      ]
    },
    {
      "cell_type": "code",
      "source": [
        "#hstack함수는 배열을 행 방향으로 결합\n",
        "import numpy as np\n",
        "A=np.array([[1,2], [3,4]])\n",
        "B=np.array([[1,0], [0,1]])\n",
        "print(A)\n",
        "print(B)\n",
        "C=np.hstack((A,B))\n",
        "print(C)"
      ],
      "metadata": {
        "id": "1rTSJZxDX6HS"
      },
      "execution_count": null,
      "outputs": []
    },
    {
      "cell_type": "code",
      "source": [
        "#column_stack함수 : 1차원을 열벡터로 하는 2차원 배열로 만듦\n",
        "import numpy as np\n",
        "A=np.array([1,2,3])\n",
        "B=np.array([4,5,6])\n",
        "C=np.array([7,8,9])\n",
        "E=np.column_stack((A,B,C))\n",
        "print(E)"
      ],
      "metadata": {
        "colab": {
          "base_uri": "https://localhost:8080/"
        },
        "id": "IpcNVthYYbQo",
        "outputId": "cfd2eaa7-97be-4e35-f5eb-5038123dd09c"
      },
      "execution_count": null,
      "outputs": [
        {
          "output_type": "stream",
          "name": "stdout",
          "text": [
            "[[1 4 7]\n",
            " [2 5 8]\n",
            " [3 6 9]]\n"
          ]
        }
      ]
    },
    {
      "cell_type": "code",
      "source": [
        "#concentrate함수 : 지정한 차원 방향으로 배열을 결합\n",
        "import numpy as np\n",
        "\n",
        "A = np.array([[1, 2], [3, 4]])\n",
        "B = np.array([[1, 0], [0, 1]])\n",
        "\n",
        "print(A)\n",
        "print(B)\n",
        "\n",
        "# 축 0을 따라 배열을 이어붙이기 (수직으로)\n",
        "print(np.concatenate((A, B), axis=0))\n",
        "\n",
        "# 축 1을 따라 배열을 이어붙이기 (수평으로)\n",
        "print(np.concatenate((A, B), axis=1))\n"
      ],
      "metadata": {
        "colab": {
          "base_uri": "https://localhost:8080/"
        },
        "id": "IRF3J99gZC_s",
        "outputId": "0e3c6688-fc2d-4286-dc46-46b48e2aed69"
      },
      "execution_count": null,
      "outputs": [
        {
          "output_type": "stream",
          "name": "stdout",
          "text": [
            "[[1 2]\n",
            " [3 4]]\n",
            "[[1 0]\n",
            " [0 1]]\n",
            "[[1 2]\n",
            " [3 4]\n",
            " [1 0]\n",
            " [0 1]]\n",
            "[[1 2 1 0]\n",
            " [3 4 0 1]]\n"
          ]
        }
      ]
    },
    {
      "cell_type": "code",
      "source": [
        "#배열 분할 함수\n",
        "#hsplit함수는 배열을 행 방향으로 분할\n",
        "import numpy as np\n",
        "A=np.arange(9).reshape(3,3)\n",
        "a=np.hsplit(A,3)\n",
        "print(A)\n",
        "print(a)\n"
      ],
      "metadata": {
        "colab": {
          "base_uri": "https://localhost:8080/"
        },
        "id": "KBGD4iR0Z49G",
        "outputId": "9cd2195c-cf55-4944-84ab-4e4b6ecdf94d"
      },
      "execution_count": null,
      "outputs": [
        {
          "output_type": "stream",
          "name": "stdout",
          "text": [
            "[[0 1 2]\n",
            " [3 4 5]\n",
            " [6 7 8]]\n",
            "[array([[0],\n",
            "       [3],\n",
            "       [6]]), array([[1],\n",
            "       [4],\n",
            "       [7]]), array([[2],\n",
            "       [5],\n",
            "       [8]])]\n"
          ]
        }
      ]
    },
    {
      "cell_type": "code",
      "source": [
        "import numpy as np\n",
        "B=np.arange(18).reshape(3,6)\n",
        "print(B)\n",
        "b=np.hsplit(B,(2,5))\n",
        "print(b[0])\n",
        "print(b[1])\n",
        "print(b[2])\n"
      ],
      "metadata": {
        "colab": {
          "base_uri": "https://localhost:8080/"
        },
        "id": "D_1Fl4sPaSFA",
        "outputId": "e58b9d46-d78a-4758-e9ee-355365dcf58f"
      },
      "execution_count": null,
      "outputs": [
        {
          "output_type": "stream",
          "name": "stdout",
          "text": [
            "[[ 0  1  2  3  4  5]\n",
            " [ 6  7  8  9 10 11]\n",
            " [12 13 14 15 16 17]]\n",
            "[[ 0  1  2  3  4  5]\n",
            " [ 6  7  8  9 10 11]\n",
            " [12 13 14 15 16 17]]\n"
          ]
        }
      ]
    },
    {
      "cell_type": "code",
      "source": [
        "#vsplit함수는 배열을 열 방향으로 분할\n",
        "import numpy as np\n",
        "A=np.arange(9).reshape(3,3)\n",
        "print(A)\n",
        "a=np.vsplit(A,3)\n",
        "print(a)"
      ],
      "metadata": {
        "id": "qAKktFj3alpJ"
      },
      "execution_count": null,
      "outputs": []
    },
    {
      "cell_type": "code",
      "source": [
        "import numpy as np\n",
        "B=np.arange(24).reshape(6,4)\n",
        "print(B)\n",
        "b=np.vsplit(B, (1,4))\n",
        "print(b[0])\n",
        "print(b[1])\n",
        "print(b[2])\n"
      ],
      "metadata": {
        "id": "MtOamkMqawgR"
      },
      "execution_count": null,
      "outputs": []
    },
    {
      "cell_type": "code",
      "source": [
        "#인덱싱과 슬라이싱\n",
        "#슬라이스는 원본 배열의 일부 데이터를 공유하는 view.\n",
        "#공유중인 데이터 변경 시 서로 영향을 줌\n",
        "import numpy as np\n",
        "A=np.arange(0,15,2)\n",
        "print(A)\n",
        "print(A[0:3])\n",
        "print(A[0:4])\n",
        "print(A[6:8])\n",
        "print(A[6:])\n",
        "print(A[:]) #전체 출력\n",
        "print(A[::2])\n",
        "print(A[:-2])\n",
        "print(A[-2:])\n",
        "print(A[0:3].shape)\n",
        "print(A[0:3].ndim) #\n",
        "A[0:3] = 100\n",
        "print(A)"
      ],
      "metadata": {
        "id": "DisRuRXGbCOQ"
      },
      "execution_count": null,
      "outputs": []
    },
    {
      "cell_type": "code",
      "source": [
        "import numpy as np\n",
        "A=np.array([[1,2,3,4], [5,6,7,8], [9,10,11,12]])\n",
        "print(A)\n",
        "print(A.shape)\n",
        "print(A[1,2], A[1][2])\n",
        "print(A[0].A[0,:])\n",
        "print(A[1], A[1,:])\n",
        "print(A[:,0])\n",
        "print(A[:,1])\n",
        "A[:2, :2] = 0\n",
        "print(A)"
      ],
      "metadata": {
        "id": "6nWQBxLccNld"
      },
      "execution_count": null,
      "outputs": []
    },
    {
      "cell_type": "code",
      "execution_count": null,
      "metadata": {
        "id": "_iGfxsBalMqZ",
        "colab": {
          "base_uri": "https://localhost:8080/"
        },
        "outputId": "67e2cd9a-09c5-49e8-876e-ca304f19f89c"
      },
      "outputs": [
        {
          "output_type": "stream",
          "name": "stdout",
          "text": [
            "[ True  True  True  True  True  True  True  True  True  True  True  True]\n",
            "True\n",
            "[100   1   2   3   4   5   6   7   8   9  10  -1]\n",
            "[100   1   2   3   4   5   6   7   8   9  10  -1]\n",
            "(3, 4)\n",
            "134819652934544\n",
            "134819652934544\n",
            "None\n"
          ]
        }
      ],
      "source": [
        "#대입\n",
        "import numpy as np\n",
        "A=np.arange(12)\n",
        "B=A\n",
        "print(A==B)\n",
        "print(A is B)\n",
        "A[0]=100\n",
        "B[11]=-1\n",
        "print(A)\n",
        "print(B)\n",
        "B.shape=3,4\n",
        "print(A.shape)\n",
        "\n",
        "#함수로 전달될 때에도 같은 넘파이 객체에 접근\n",
        "#함수 아규먼트의 id와 함수 파라미터의 id값이 동일\n",
        "def f(x):\n",
        "  print(id(x))\n",
        "\n",
        "a=np.array([1,2])\n",
        "print(id(a))\n",
        "print(f(a))"
      ]
    },
    {
      "cell_type": "code",
      "execution_count": null,
      "metadata": {
        "id": "9hK5vW4Qmiq6"
      },
      "outputs": [],
      "source": [
        "#얕은 복사\n",
        "import numpy as np\n",
        "a=np.arange(12)\n",
        "#a의 view로 b를 생성\n",
        "b=a.view()\n",
        "#b는 a의 데이터를 공유\n",
        "print(a)\n",
        "print(b)\n",
        "#데이터는 공유하지만 a와 b는 서로 다른 Numpy배열 객체\n",
        "print(b.base is a, a is b)\n",
        "#같은 데이터를 공유하기 때문에 한쪽을 바꾸면 다른 쪽에 반영\n",
        "a[0]=-1\n",
        "b[11] = 100\n",
        "print(a)\n",
        "print(b)\n",
        "\n",
        "#하지만 다른 넘파이 배열 객체이기 때문에 한쪽의 shape를 변경해도\n",
        "#다른쪽에 반영이 안된다.\n",
        "a.resize(3,4)\n",
        "print(a)\n",
        "print(b)\n",
        "#현재 a와 b는 다른 shpae이지만, 같은 데이터를 공유하기 때문에 값을\n",
        "#변경하면 서로 영향을 미친다.\n",
        "a[0,2]=10000\n",
        "print(a)\n",
        "print(b)\n",
        "#슬라이싱하면 뷰를 리턴, 데이터를 공유하기 때문에 수정하면 영향을 줌\n",
        "c=a[0]\n",
        "c[:]=0\n",
        "print(c)\n",
        "print(a)\n",
        "print(b)"
      ]
    },
    {
      "cell_type": "code",
      "execution_count": null,
      "metadata": {
        "id": "iz4SHURvqLrm",
        "colab": {
          "base_uri": "https://localhost:8080/"
        },
        "outputId": "6728c176-ffc9-4a8f-ccc4-26142719fecc"
      },
      "outputs": [
        {
          "output_type": "stream",
          "name": "stdout",
          "text": [
            "[ True  True  True  True  True  True  True  True  True  True  True  True]\n",
            "False\n",
            "False\n",
            "[-1  1  2  3  4  5  6  7  8  9 10 11]\n",
            "[    0     1     2     3     4     5     6     7     8     9    10 10000]\n"
          ]
        }
      ],
      "source": [
        "#깊은 복사\n",
        "import numpy as np\n",
        "a=np.arange(12)\n",
        "#ndarray.copy메소드를 사용하면 새로운 numpy 객체의 새로운 메모리 공간에 배열 a의 데이터를 복사\n",
        "b=a.copy()\n",
        "#a와 b는 같은 데이터를 갖고 있다.\n",
        "print(a==b)\n",
        "#하지만 a와 b는 서로 다른 numpy 배열 객체\n",
        "print(a is b)\n",
        "#b는 a의 데이터를 공유하지 않는다.\n",
        "print(b.base is a)\n",
        "#따라서 데이터를 변경해도 서로 영향을 주지 않는다.\n",
        "a[0]=-1\n",
        "b[11]=10000\n",
        "print(a)\n",
        "print(b)"
      ]
    },
    {
      "cell_type": "code",
      "execution_count": null,
      "metadata": {
        "id": "g5mEQWkNqtoT",
        "colab": {
          "base_uri": "https://localhost:8080/"
        },
        "outputId": "d90ec402-7f9c-41b0-e608-772c38ced1c5"
      },
      "outputs": [
        {
          "output_type": "stream",
          "name": "stdout",
          "text": [
            "[[2 4]\n",
            " [6 8]]\n",
            "[[2 2]\n",
            " [2 2]]\n",
            "[[ 4  6]\n",
            " [ 8 10]]\n",
            "[[0 2]\n",
            " [4 6]]\n",
            "[[ 4  8]\n",
            " [12 16]]\n",
            "[[1. 2.]\n",
            " [3. 4.]]\n"
          ]
        }
      ],
      "source": [
        "#같은 크기의 배열 간의 연산\n",
        "import numpy as np\n",
        "A=np.array([2,4,6,8]).reshape(2,2)\n",
        "B=np.array([2,2,2,2]).reshape(2,2)\n",
        "print(A)\n",
        "print(B)\n",
        "print(A+B)\n",
        "print(A-B)\n",
        "print(A*B)\n",
        "print(A/B)"
      ]
    },
    {
      "cell_type": "code",
      "execution_count": null,
      "metadata": {
        "id": "2uV3yam5rHBk",
        "colab": {
          "base_uri": "https://localhost:8080/"
        },
        "outputId": "c922aeec-c777-4791-d2bb-04a72fa3609f"
      },
      "outputs": [
        {
          "output_type": "stream",
          "name": "stdout",
          "text": [
            "[[ 10  20  30  40]\n",
            " [ 50  60  70  80]\n",
            " [ 90 100 110 120]]\n",
            "[1 2 3 4]\n",
            "[[ 11  22  33  44]\n",
            " [ 51  62  73  84]\n",
            " [ 91 102 113 124]]\n"
          ]
        }
      ],
      "source": [
        "#산술연산과 브로드캐스팅(2)\n",
        "import numpy as np\n",
        "A=np.arange(10,130,10).reshape(3,4)\n",
        "print(A)\n",
        "B=np.arange(1,5)\n",
        "print(B)\n",
        "print(A+B)\n"
      ]
    },
    {
      "cell_type": "code",
      "source": [
        "#산술 연산과 브로드캐스팅(3)\n",
        "import numpy as np\n",
        "A=np.arange(10,130,10).reshape(3,4)\n",
        "print(A)\n",
        "B=5\n",
        "print(B)\n",
        "print(A+B)"
      ],
      "metadata": {
        "id": "6jXN8GMUc6GC",
        "colab": {
          "base_uri": "https://localhost:8080/"
        },
        "outputId": "e504580f-d8c5-4d89-853e-d99d85341194"
      },
      "execution_count": null,
      "outputs": [
        {
          "output_type": "stream",
          "name": "stdout",
          "text": [
            "[[ 10  20  30  40]\n",
            " [ 50  60  70  80]\n",
            " [ 90 100 110 120]]\n",
            "5\n",
            "[[ 15  25  35  45]\n",
            " [ 55  65  75  85]\n",
            " [ 95 105 115 125]]\n"
          ]
        }
      ]
    },
    {
      "cell_type": "code",
      "source": [
        "#선형 방정식의 개수와 미지수의 개수가 같은 경우\n",
        "import numpy as np\n",
        "A=np.array([[7,2], [-7,5]])\n",
        "b=np.array([-5,12])\n",
        "#역행렬을 구한 후 벡터b에 곱하면 x를 구할 수 있다.\n",
        "invA = np.linalg.inv(A)\n",
        "x=np.dot(invA,b)\n",
        "print(x)\n"
      ],
      "metadata": {
        "colab": {
          "base_uri": "https://localhost:8080/"
        },
        "id": "bMo2HIzkdWGO",
        "outputId": "8be385d1-583b-4bee-eead-646f98da5e7f"
      },
      "execution_count": null,
      "outputs": [
        {
          "output_type": "stream",
          "name": "stdout",
          "text": [
            "[-1.  1.]\n"
          ]
        }
      ]
    },
    {
      "cell_type": "code",
      "source": [
        "import numpy as np\n",
        "A=np.array([[7,2], [-7,5]])\n",
        "b = np.array([-5 , 12])\n",
        "x=np.linalg.solve(A,b)\n",
        "print(x)"
      ],
      "metadata": {
        "colab": {
          "base_uri": "https://localhost:8080/"
        },
        "id": "duLbM08udyn7",
        "outputId": "0aa1dffe-e9f2-4e56-ffa4-c2f52d8cd53f"
      },
      "execution_count": null,
      "outputs": [
        {
          "output_type": "stream",
          "name": "stdout",
          "text": [
            "[-1.  1.]\n"
          ]
        }
      ]
    },
    {
      "cell_type": "code",
      "source": [
        "import numpy as np\n",
        "import matplotlib.pyplot as plt\n",
        "\n",
        "A = np.array([[7, 2], [-7, 5]])\n",
        "b = np.array([-5, 12])\n",
        "x = np.linalg.solve(A, b)\n",
        "\n",
        "x1, y1 = x\n",
        "print(x1, y1)\n",
        "\n",
        "fig = plt.figure()\n",
        "ax = fig.add_subplot(1, 1, 1)\n",
        "\n",
        "# 선형방정식을 직선으로 그린다.\n",
        "for c1, c2, c3 in zip(A[:, 0], A[:, 1], b):\n",
        "    x_vals = np.linspace(-7, 7, 100)\n",
        "    y_vals = (c3 - c1 * x_vals) / c2\n",
        "    ax.plot(x_vals, y_vals, color=\"black\")\n",
        "\n",
        "# 연립방정식의 해를 빨간 점으로 표시한다.\n",
        "ax.plot(x1, y1, 'ro')\n",
        "\n",
        "ax.axis([-7, 7, -7, 7])\n",
        "ax.set_xticks(range(-7, 8))\n",
        "ax.set_yticks(range(-7, 8))\n",
        "ax.grid()\n",
        "ax.set_axisbelow(True)\n",
        "ax.set_aspect('equal')\n",
        "ax.spines['left'].set_position('zero')\n",
        "ax.spines['bottom'].set_position('zero')\n",
        "ax.spines['right'].set_color('none')  # 수정: 'none'이 아니라 'center'로 수정\n",
        "ax.spines['top'].set_color('none')     # 수정: 'none'이 아니라 'center'로 수정\n",
        "\n",
        "plt.show()\n"
      ],
      "metadata": {
        "id": "AgQJaWMbeDgj",
        "colab": {
          "base_uri": "https://localhost:8080/",
          "height": 439
        },
        "outputId": "30c262ec-baab-4da9-c339-60e69ddbe818"
      },
      "execution_count": null,
      "outputs": [
        {
          "output_type": "stream",
          "name": "stdout",
          "text": [
            "-1.0 1.0\n"
          ]
        },
        {
          "output_type": "display_data",
          "data": {
            "text/plain": [
              "<Figure size 640x480 with 1 Axes>"
            ],
            "image/png": "[encoded data removed]"
          },
          "metadata": {}
        }
      ]
    },
    {
      "cell_type": "code",
      "source": [
        "import numpy as np\n",
        "import matplotlib.pyplot as plt\n",
        "a1 = np.array([7,-7])\n",
        "a2 = np.array([2,5])\n",
        "b = np.array([-5,12])\n",
        "#연립방정식의 계수 벡터 A를 구한다.\n",
        "A = np.column_stack((a1, a2))\n",
        "#solve함수로 해를 구한다.\n",
        "x=np.linalg.solve(A,b)\n",
        "#벡터에 해 벡터의 스칼라를 곱한다.\n",
        "x1, y1 = x\n",
        "a1 = a1*x1\n",
        "a2 = a2 * y1\n",
        "fig = plt.figure()\n",
        "ax=fig.add_subplot(1,1,1)\n",
        "#벡터 a1과 a2로 벡터b를 만들 수 있음을 확인한다.\n",
        "ax.quiver(0,0,a1[0],a1[1], angles='xy', scale_units='xy',scale=1)\n",
        "ax.text(a1[0]-1, a1[1], 'a1', size=15)\n",
        "ax.quiver(0,0,a2[0],a2[1], angles='xy', scale_units='xy',scale=1)\n",
        "ax.text(a2[0], a2[1], 'a2', size=15)\n",
        "ax.quiver(0,0,b[0],b[1], angles='xy', scale_units='xy',scale=1, color='blue')\n",
        "ax.text(b[0], b[1], 'b', size=15, color = 'blue')\n",
        "\n",
        "ax.set_xticks(range(-10, 5))\n",
        "ax.set_yticks(range(-3, 15))\n",
        "ax.grid()\n",
        "ax.set_axisbelow(True)\n",
        "ax.spines['left'].set_position('zero')\n",
        "ax.spines['bottom'].set_position('zero')\n",
        "ax.spines['right'].set_color('none')\n",
        "ax.spines['top'].set_color('none')\n",
        "plt.show()"
      ],
      "metadata": {
        "id": "IB7OI3POfqse",
        "colab": {
          "base_uri": "https://localhost:8080/",
          "height": 420
        },
        "outputId": "7f6300eb-dc2e-402f-9b77-f1b02e2aa2f5"
      },
      "execution_count": null,
      "outputs": [
        {
          "output_type": "display_data",
          "data": {
            "text/plain": [
              "<Figure size 640x480 with 1 Axes>"
            ],
            "image/png": "[encoded data removed]"
          },
          "metadata": {}
        }
      ]
    },
    {
      "cell_type": "code",
      "source": [
        "import numpy as np\n",
        "import matplotlib.pyplot as plt\n",
        "A=np.array([[5,5], [5,5]])\n",
        "b=np.array([10,20])\n",
        "a1=A[:,0]\n",
        "a2 = A[:,1]\n",
        "c1 = -b\n",
        "fig=plt.figure()\n",
        "ax=fig.add_subplot(1,1,1)\n",
        "\n",
        "for c1, c2, c3 in zip(A[:,0], A[:,1],b):\n",
        "  if c2==0:\n",
        "    y=np.linspace(-20,20,100)\n",
        "    x=(c3-c2&y)/c1\n",
        "    plt.plot(x,y,color=\"black\")\n",
        "  else:\n",
        "    x=np.linspace(-20,20,100)\n",
        "    y=(c3-c1*x)/c2\n",
        "    plt.plot(x,y,color=\"black\")\n",
        "ax.axis([-7, 7, -7, 7])\n",
        "ax.set_xticks(range(-7,7))\n",
        "ax.set_yticks(range(-7, 7))\n",
        "ax.grid()\n",
        "ax.set_axisbelow(True)\n",
        "ax.set_aspect('auto', adjustable='box')\n",
        "ax.spines['left'].set_position('zero')\n",
        "ax.spines['bottom'].set_position('zero')\n",
        "ax.spines['right'].set_color('none')  # 수정: 'none'이 아니라 'center'로 수정\n",
        "ax.spines['top'].set_color('none')\n",
        "plt.show()"
      ],
      "metadata": {
        "id": "6v1J-PNUgusj",
        "colab": {
          "base_uri": "https://localhost:8080/",
          "height": 415
        },
        "outputId": "ea3e87a1-353b-4f3d-85b7-49a4ee5a3909"
      },
      "execution_count": null,
      "outputs": [
        {
          "output_type": "display_data",
          "data": {
            "text/plain": [
              "<Figure size 640x480 with 1 Axes>"
            ],
            "image/png": "[encoded data removed]"
          },
          "metadata": {}
        }
      ]
    },
    {
      "cell_type": "code",
      "source": [
        "import numpy as np\n",
        "import matplotlib.pyplot as plt\n",
        "A=np.array([[5,5], [5,5]])\n",
        "b=np.array([10,20])\n",
        "a1=A[:,0]\n",
        "a2=A[:,1]\n",
        "fig=plt.figure()\n",
        "ax=fig.add_subplot(1,1,1)\n",
        "#a1과 a2에 의해 만들어지는 생성을 그림\n",
        "\n",
        "line_x=[]\n",
        "line_y=[]\n",
        "for c1 in np.linspace(-5,25,25):\n",
        "  for c2 in np.linspace(-5,25,25):\n",
        "    c1_a1 = a1*c1\n",
        "    c2_a2=a1*c1\n",
        "    sum=c1_a1+c2_a2\n",
        "    line_x.append(sum[0])\n",
        "    line_y.append(sum[1])\n",
        "plt.plot(line_x, line_y, color='red', zorder=1)\n",
        "ax.quiver(0,0,a1[0],a1[1], angles='xy', scale_units='xy',scale=1, zorder=2)\n",
        "ax.quiver(0,0,a2[0],a2[1], angles='xy', scale_units='xy',scale=1, zorder=2)\n",
        "ax.quiver(0,0,b[0],b[1], angles='xy', scale_units='xy',scale=1, color='blue')\n",
        "ax.text(a1[0], a1[1], 'a1=a2', size=15, zorder=2)\n",
        "ax.text(b[0], b[1], 'b', size=15)\n",
        "\n",
        "ax.axis([-3, 12, -3, 22])\n",
        "ax.set_xticks(range(-3,12))\n",
        "ax.set_yticks(range(-3, 22))\n",
        "ax.grid()\n",
        "ax.set_axisbelow(True)\n",
        "ax.set_aspect('auto', adjustable='box')\n",
        "ax.spines['left'].set_position('zero')\n",
        "ax.spines['bottom'].set_position('zero')\n",
        "ax.spines['right'].set_color('none')  # 수정: 'none'이 아니라 'center'로 수정\n",
        "ax.spines['top'].set_color('none')\n",
        "plt.show()"
      ],
      "metadata": {
        "id": "ZQuIn4KJhnyk",
        "colab": {
          "base_uri": "https://localhost:8080/",
          "height": 415
        },
        "outputId": "1d58187e-2239-4462-f725-1117b1a17854"
      },
      "execution_count": null,
      "outputs": [
        {
          "output_type": "display_data",
          "data": {
            "text/plain": [
              "<Figure size 640x480 with 1 Axes>"
            ],
            "image/png": "[encoded data removed]"
          },
          "metadata": {}
        }
      ]
    },
    {
      "cell_type": "code",
      "source": [
        "import numpy as np\n",
        "import matplotlib.pyplot as plt\n",
        "A=np.array([[1,1], [2,2]])\n",
        "b=np.array([10,20])\n",
        "a1=A[:,0]\n",
        "a2=A[:,1]\n",
        "c1 = -b\n",
        "fig=plt.figure()\n",
        "ax=fig.add_subplot(1,1,1)\n",
        "\n",
        "for c1, c2, c3 in zip(A[:,0], A[:,1],b):\n",
        "  if c2==0:\n",
        "    y=np.linspace(-20,20,100)\n",
        "    x=(c3-c2*y)/c1\n",
        "    plt.plot(x, y, color=\"black\")\n",
        "  else:\n",
        "    x=np.linspace(-20,20,100)\n",
        "    y=(c3-c1*x)/c2\n",
        "    plt.plot(x, y, color=\"black\")\n",
        "\n",
        "ax.axis([-3, 12, -3, 15])\n",
        "ax.set_xticks(range(-3,12))\n",
        "ax.set_yticks(range(-3, 15))\n",
        "ax.grid()\n",
        "ax.set_axisbelow(True)\n",
        "ax.set_aspect('auto', adjustable='box')\n",
        "ax.spines['left'].set_position('zero')\n",
        "ax.spines['bottom'].set_position('zero')\n",
        "ax.spines['right'].set_color('none')\n",
        "ax.spines['top'].set_color('none')\n",
        "plt.show()"
      ],
      "metadata": {
        "colab": {
          "base_uri": "https://localhost:8080/",
          "height": 415
        },
        "id": "hvF_GDhVYlDk",
        "outputId": "bccb9fa8-b8a4-4b39-a738-ce551a7f6858"
      },
      "execution_count": null,
      "outputs": [
        {
          "output_type": "display_data",
          "data": {
            "text/plain": [
              "<Figure size 640x480 with 1 Axes>"
            ],
            "image/png": "[encoded data removed]"
          },
          "metadata": {}
        }
      ]
    },
    {
      "cell_type": "code",
      "source": [
        "#이동 실습\n",
        "import cv2\n",
        "import numpy as np\n",
        "#이미지를 컬러로 로드하여 넘파이 배열 형태로 img에 대입\n",
        "img = cv2.imread(\"D:\\workspace\\image.jpg\")\n",
        "#이미지가 저장된 넘파이 배열의 너비와 높이를 구한다.\n",
        "height, width = img.shape[:2]\n",
        "#이동 변환 행렬을 생성, x방향으로 100, y방향으로 200픽셀 이동\n",
        "M = np.array([[1, 0, 100], [0, 1, 200], [0, 0, 1]], dtype=float)\n",
        "#결과 이미지를 저장할 넘파이 배열을 입력이미지와 같은 크기로 생성\n",
        "dst = np.zeros(img.shape, dtype=np.uint8)\n",
        "#이미지의 전체 픽셀을 스캔\n",
        "for y in range(height-1):\n",
        "  for x in range(width-1):\n",
        "    #현재 픽셀 p의 좌표에 이동 변환 행렬을 곱하여 이동시킨 좌표\n",
        "    p=np.array([x, y, 1])\n",
        "    p_=np.dot(M,p)\n",
        "    #이동한 위치인 p_에서 좌표 x_, y_를 정수 형태로다가져온다.\n",
        "    x_, y_=p_[:2]\n",
        "    x_=int(x_)\n",
        "    y_=int(y_)\n",
        "    #입력 이미지 크기 내로 픽셀이 이동한 경우에만 결고 ㅏ이미지를 저장할 넘파이 배열로 픽셀을 복사한다.\n",
        "    if x_>0 and x_<width and y_>0 and y_<height:\n",
        "      dst[y_,x_] = img[y,x]\n",
        "#입력 이미지와 결과 이미지를 수평으로 연결하여 하나의 이미지로 만든다.\n",
        "result = cv2.hconcat([img, dst])\n",
        "cv2.imshow(\"result\", result)\n",
        "cv2.waitKey(0)"
      ],
      "metadata": {
        "id": "eBSKu9xghAqS"
      },
      "execution_count": null,
      "outputs": []
    }
  ],
  "metadata": {
    "colab": {
      "provenance": [],
      "authorship_tag": "ABX9TyNoT2huTobTvveZ64i7UrFm",
      "include_colab_link": true
    },
    "kernelspec": {
      "display_name": "Python 3",
      "name": "python3"
    },
    "language_info": {
      "name": "python"
    }
  },
  "nbformat": 4,
  "nbformat_minor": 0
}