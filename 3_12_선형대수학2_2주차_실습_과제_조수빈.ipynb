{
  "nbformat": 4,
  "nbformat_minor": 0,
  "metadata": {
    "colab": {
      "provenance": [],
      "authorship_tag": "ABX9TyNmt9T36aFpHU9ttCwTuBb4",
      "include_colab_link": true
    },
    "kernelspec": {
      "name": "python3",
      "display_name": "Python 3"
    },
    "language_info": {
      "name": "python"
    }
  },
  "cells": [
    {
      "cell_type": "markdown",
      "metadata": {
        "id": "view-in-github",
        "colab_type": "text"
      },
      "source": [
        "<a href=\"https://colab.research.google.com/github/sooloin/gujohaejyo/blob/main/3_12_%EC%84%A0%ED%98%95%EB%8C%80%EC%88%98%ED%95%992_2%EC%A3%BC%EC%B0%A8_%EC%8B%A4%EC%8A%B5_%EA%B3%BC%EC%A0%9C_%EC%A1%B0%EC%88%98%EB%B9%88.ipynb\" target=\"_parent\"><img src=\"https://colab.research.google.com/assets/colab-badge.svg\" alt=\"Open In Colab\"/></a>"
      ]
    },
    {
      "cell_type": "markdown",
      "source": [
        "**1. 파이썬 기초**"
      ],
      "metadata": {
        "id": "kQQCcBEdatLN"
      }
    },
    {
      "cell_type": "code",
      "execution_count": null,
      "metadata": {
        "colab": {
          "base_uri": "https://localhost:8080/"
        },
        "id": "Cgvi1qOxUDdY",
        "outputId": "be65eba7-fa05-4149-9cea-4acb5ccd3b8a"
      },
      "outputs": [
        {
          "output_type": "stream",
          "name": "stdout",
          "text": [
            "Hello, world\n",
            "정수 : 3, 03, 003, 0003, 00003\n",
            "실수 : 256, 256.1, 256.12\n",
            "문자열 : [Hello, world]\n"
          ]
        }
      ],
      "source": [
        "#실습1\n",
        "print (\"Hello, world\")\n",
        "\n",
        "#integer\n",
        "x=3\n",
        "print (\"정수 : %01d, %02d, %03d, %04d, %05d\" % (x, x, x, x, x))\n",
        "\n",
        "#float\n",
        "x=256.123\n",
        "print (\"실수 : %.0f, %.1f, %.2f\" % (x, x, x))\n",
        "\n",
        "#string\n",
        "x= \"Hello, world\"\n",
        "print (\"문자열 : [%s]\" % (x))\n"
      ]
    },
    {
      "cell_type": "code",
      "source": [
        "#실습2\n",
        "\n",
        "contents = [\"Regression\", \"Classification\", \"SYM\", \"Clustering\", \"Dimension reduction\",\n",
        "            \"NN\", \"CNN\", \"AE\", \"GAN\", \"RNN\"]\n",
        "\n",
        "for con in contents:\n",
        "  if con in [\"Regression\", \"Classification\", \"SYM\", \"Clustering\", \"Dimension reduction\"]:\n",
        "    print(\"%s 은(는) 기계학습 내용입니다.\" %con)\n",
        "  elif con in [\"CNN\"]:\n",
        "    print(\"%s 은(는) convolutional neural network 입니다.\" % con)\n",
        "  else:\n",
        "    print(\"%s 은(는) 심층학습 내용입니다.\"%con)"
      ],
      "metadata": {
        "colab": {
          "base_uri": "https://localhost:8080/"
        },
        "id": "_9MJM5AKVHpM",
        "outputId": "273fda22-2f7f-480c-a1b3-f7f72cd1552d"
      },
      "execution_count": null,
      "outputs": [
        {
          "output_type": "stream",
          "name": "stdout",
          "text": [
            "Regression 은(는) 기계학습 내용입니다.\n",
            "Classification 은(는) 기계학습 내용입니다.\n",
            "SYM 은(는) 기계학습 내용입니다.\n",
            "Clustering 은(는) 기계학습 내용입니다.\n",
            "Dimension reduction 은(는) 기계학습 내용입니다.\n",
            "NN 은(는) 심층학습 내용입니다.\n",
            "CNN 은(는) convolutional neural network 입니다.\n",
            "AE 은(는) 심층학습 내용입니다.\n",
            "GAN 은(는) 심층학습 내용입니다.\n",
            "RNN 은(는) 심층학습 내용입니다.\n"
          ]
        }
      ]
    },
    {
      "cell_type": "code",
      "source": [
        "#실습3\n",
        "\n",
        "for (i, con) in enumerate(contents):\n",
        "  print(\"[%d/%d]: %s\" % (i, len(contents), con))"
      ],
      "metadata": {
        "colab": {
          "base_uri": "https://localhost:8080/"
        },
        "id": "W7bM8MsRYKS_",
        "outputId": "eac67a60-388a-41b1-b245-b70327e63d1e"
      },
      "execution_count": null,
      "outputs": [
        {
          "output_type": "stream",
          "name": "stdout",
          "text": [
            "[0/10]: Regression\n",
            "[1/10]: Classification\n",
            "[2/10]: SYM\n",
            "[3/10]: Clustering\n",
            "[4/10]: Dimension reduction\n",
            "[5/10]: NN\n",
            "[6/10]: CNN\n",
            "[7/10]: AE\n",
            "[8/10]: GAN\n",
            "[9/10]: RNN\n"
          ]
        }
      ]
    },
    {
      "cell_type": "code",
      "source": [
        "#실습4\n",
        "\n",
        "def sum(a,b):\n",
        "  return a+b\n",
        "\n",
        "x= 10.0\n",
        "y = 20.0\n",
        "print(\"%.1f + %.1f = %.1f\" %(x, y, sum(x,y)))"
      ],
      "metadata": {
        "colab": {
          "base_uri": "https://localhost:8080/"
        },
        "id": "wqCVnjlKYdm0",
        "outputId": "12bec0ca-7ab8-4783-b3bb-708c0adf4b94"
      },
      "execution_count": null,
      "outputs": [
        {
          "output_type": "stream",
          "name": "stdout",
          "text": [
            "10.0 + 20.0 = 30.0\n"
          ]
        }
      ]
    },
    {
      "cell_type": "code",
      "source": [
        "#실습\n",
        "\n",
        "a=[]\n",
        "b=[1, 2, 3]\n",
        "c=[\"Hello\", \",\", \"world\"]\n",
        "d=[1, 2, 3, \"x\", \"y\", \"z\"]\n",
        "x=[]\n",
        "print(x)\n",
        "\n",
        "x.append('a')\n",
        "print(x)\n",
        "\n",
        "x.append(123)\n",
        "print(x)\n",
        "\n",
        "x.append([\"a\", \"b\"])\n",
        "print(x)"
      ],
      "metadata": {
        "colab": {
          "base_uri": "https://localhost:8080/"
        },
        "id": "awSZK4E3Yt0B",
        "outputId": "4b968544-f330-45b3-eda8-82e965d50dfe"
      },
      "execution_count": null,
      "outputs": [
        {
          "output_type": "stream",
          "name": "stdout",
          "text": [
            "[]\n",
            "['a']\n",
            "['a', 123]\n",
            "['a', 123, ['a', 'b']]\n"
          ]
        }
      ]
    },
    {
      "cell_type": "code",
      "source": [
        "#실습6\n",
        "\n",
        "dic = dict()\n",
        "dic[\"name\"]=\"Daesik\"\n",
        "dic[\"town\"]=\"Yongin city\"\n",
        "dic[\"job\"]=\"Assistant professor\"\n",
        "print(dic)"
      ],
      "metadata": {
        "colab": {
          "base_uri": "https://localhost:8080/"
        },
        "id": "UaoVBOjcZUD2",
        "outputId": "604a39f0-e975-44dd-d6b3-6ede5e7132b9"
      },
      "execution_count": null,
      "outputs": [
        {
          "output_type": "stream",
          "name": "stdout",
          "text": [
            "{'name': 'Daesik', 'town': 'Yongin city', 'job': 'Assistant professor'}\n"
          ]
        }
      ]
    },
    {
      "cell_type": "code",
      "source": [
        "#실습7 -> class 내용 다시 복습하기\n",
        "\n",
        "class Student:\n",
        "  #생성자\n",
        "  def __init__(self, name):\n",
        "    self.name = name\n",
        "  #메서드\n",
        "  def study(self, hard=False):\n",
        "    if hard:\n",
        "      print(\"%s 학생은 열심히 공부합시다.\" %self.name)\n",
        "    else:\n",
        "      print(\"%s 학생은 공부합니다.\" %self.name)\n",
        "\n",
        "s=Student('Daesik')\n",
        "s.study()\n",
        "s.study(hard=True)"
      ],
      "metadata": {
        "colab": {
          "base_uri": "https://localhost:8080/"
        },
        "id": "VtNlJa3eZoNT",
        "outputId": "f974e8b6-2b80-4523-a44a-4005d4285f8f"
      },
      "execution_count": null,
      "outputs": [
        {
          "output_type": "stream",
          "name": "stdout",
          "text": [
            "Daesik 학생은 공부합니다.\n",
            "Daesik 학생은 열심히 공부합시다.\n"
          ]
        }
      ]
    },
    {
      "cell_type": "markdown",
      "source": [
        "\n",
        "\n",
        "---\n",
        "\n"
      ],
      "metadata": {
        "id": "bMW3jIYtakDf"
      }
    },
    {
      "cell_type": "markdown",
      "source": [
        "**2. 벡터, 행렬 연산, 그래프 그리기**"
      ],
      "metadata": {
        "id": "2XssSGS5afy0"
      }
    },
    {
      "cell_type": "code",
      "source": [
        "#실습8\n",
        "import numpy as np\n",
        "\n",
        "def print_val(x):\n",
        "  print(\"Type:\", type(x))\n",
        "  print(\"Shape:\", x.shape)\n",
        "  print(\"값:\\n\", x)\n",
        "  print(\" \")"
      ],
      "metadata": {
        "id": "lWxSz3CNafON"
      },
      "execution_count": null,
      "outputs": []
    },
    {
      "cell_type": "code",
      "source": [
        "#실습9\n",
        "x= np.array([1, 2, 3])\n",
        "print_val(x)\n",
        "\n",
        "x[0] = 5\n",
        "print_val(x)"
      ],
      "metadata": {
        "colab": {
          "base_uri": "https://localhost:8080/"
        },
        "id": "vjEi-KzX_7xh",
        "outputId": "6f03e61e-3c7d-4877-eae0-354e8714e5d0"
      },
      "execution_count": null,
      "outputs": [
        {
          "output_type": "stream",
          "name": "stdout",
          "text": [
            "Type: <class 'numpy.ndarray'>\n",
            "Shape: (3,)\n",
            "값:\n",
            " [1 2 3]\n",
            " \n",
            "Type: <class 'numpy.ndarray'>\n",
            "Shape: (3,)\n",
            "값:\n",
            " [5 2 3]\n",
            " \n"
          ]
        }
      ]
    },
    {
      "cell_type": "code",
      "source": [
        "#실습10\n",
        "#랜덤 행렬(uniform: 0~1 사이 모든 값들이 나올 확률이 같음)\n",
        "a=np.random.random((4, 4))\n",
        "print_val(a)\n",
        "\n",
        "#랜덤 행렬(Gaussian: 0을 평균으로 하는 가우시안 분포를 따르는 랜덤값)\n",
        "a=np.random.randn(4, 4)\n",
        "print_val(a)"
      ],
      "metadata": {
        "colab": {
          "base_uri": "https://localhost:8080/"
        },
        "id": "W7ZmPxGhAX59",
        "outputId": "b8525bfd-3aec-4702-c652-deca1bd7e569"
      },
      "execution_count": null,
      "outputs": [
        {
          "output_type": "stream",
          "name": "stdout",
          "text": [
            "Type: <class 'numpy.ndarray'>\n",
            "Shape: (4, 4)\n",
            "값:\n",
            " [[0.27614165 0.03175642 0.31745372 0.33743197]\n",
            " [0.95742752 0.63535883 0.27909853 0.83791876]\n",
            " [0.06436197 0.58729642 0.54119364 0.23633685]\n",
            " [0.93052736 0.86291134 0.59427696 0.43043257]]\n",
            " \n",
            "Type: <class 'numpy.ndarray'>\n",
            "Shape: (4, 4)\n",
            "값:\n",
            " [[-1.2215387  -0.52485191  2.53799257 -1.09721267]\n",
            " [-0.33207186  0.09658118  1.2929921   0.28755848]\n",
            " [-1.05613731 -0.65412518 -0.63301975  1.80239816]\n",
            " [-0.11824497  1.16764549  0.5652718  -1.20271139]]\n",
            " \n"
          ]
        }
      ]
    },
    {
      "cell_type": "code",
      "source": [
        "#실습11\n",
        "#np array indexing\n",
        "a=np.array([[1,2,3,4], [5,6,7,8], [9,10,11,12]])\n",
        "print_val(a)\n",
        "\n",
        "b= a[:2, 1:3] #행 0~1, 열 1~2\n",
        "print_val(b)\n",
        "\n",
        "#행렬의 n번째 행 얻기\n",
        "row1 = a[1, :] #1번째 행\n",
        "print_val(row1)"
      ],
      "metadata": {
        "colab": {
          "base_uri": "https://localhost:8080/"
        },
        "id": "kQ-G2XYPA6Cn",
        "outputId": "c280824a-1288-4af1-c184-8b91969d6c8c"
      },
      "execution_count": null,
      "outputs": [
        {
          "output_type": "stream",
          "name": "stdout",
          "text": [
            "Type: <class 'numpy.ndarray'>\n",
            "Shape: (3, 4)\n",
            "값:\n",
            " [[ 1  2  3  4]\n",
            " [ 5  6  7  8]\n",
            " [ 9 10 11 12]]\n",
            " \n",
            "Type: <class 'numpy.ndarray'>\n",
            "Shape: (2, 2)\n",
            "값:\n",
            " [[2 3]\n",
            " [6 7]]\n",
            " \n",
            "Type: <class 'numpy.ndarray'>\n",
            "Shape: (4,)\n",
            "값:\n",
            " [5 6 7 8]\n",
            " \n"
          ]
        }
      ]
    },
    {
      "cell_type": "code",
      "source": [
        "#실습12\n",
        "#행렬의 원소별 연산\n",
        "m1=np.array([[1,2], [3,4]], dtype=np.float64)\n",
        "m2=np.array([[5,6], [7,8]], dtype=np.float64)\n",
        "\n",
        "#elementwise sum\n",
        "print_val(m1+m2)\n",
        "print_val(np.add(m1, m2))"
      ],
      "metadata": {
        "colab": {
          "base_uri": "https://localhost:8080/"
        },
        "id": "FFpbnQZUBTCx",
        "outputId": "8c20da80-d0cc-4879-c885-b4b830fe1e87"
      },
      "execution_count": null,
      "outputs": [
        {
          "output_type": "stream",
          "name": "stdout",
          "text": [
            "Type: <class 'numpy.ndarray'>\n",
            "Shape: (2, 2)\n",
            "값:\n",
            " [[ 6.  8.]\n",
            " [10. 12.]]\n",
            " \n",
            "Type: <class 'numpy.ndarray'>\n",
            "Shape: (2, 2)\n",
            "값:\n",
            " [[ 6.  8.]\n",
            " [10. 12.]]\n",
            " \n"
          ]
        }
      ]
    },
    {
      "cell_type": "code",
      "source": [
        "#실습13\n",
        "#elementwise difference\n",
        "print_val(m1-m2)\n",
        "print_val(np.subtract(m1, m2))\n",
        "\n",
        "#elementwise product\n",
        "print_val(m1*m2)\n",
        "print_val(np.multiply(m1, m2))"
      ],
      "metadata": {
        "colab": {
          "base_uri": "https://localhost:8080/"
        },
        "id": "yo0862dSBqxW",
        "outputId": "3ede9cd9-7af5-4f6a-a935-77d54719a23b"
      },
      "execution_count": null,
      "outputs": [
        {
          "output_type": "stream",
          "name": "stdout",
          "text": [
            "Type: <class 'numpy.ndarray'>\n",
            "Shape: (2, 2)\n",
            "값:\n",
            " [[-4. -4.]\n",
            " [-4. -4.]]\n",
            " \n",
            "Type: <class 'numpy.ndarray'>\n",
            "Shape: (2, 2)\n",
            "값:\n",
            " [[-4. -4.]\n",
            " [-4. -4.]]\n",
            " \n",
            "Type: <class 'numpy.ndarray'>\n",
            "Shape: (2, 2)\n",
            "값:\n",
            " [[ 5. 12.]\n",
            " [21. 32.]]\n",
            " \n",
            "Type: <class 'numpy.ndarray'>\n",
            "Shape: (2, 2)\n",
            "값:\n",
            " [[ 5. 12.]\n",
            " [21. 32.]]\n",
            " \n"
          ]
        }
      ]
    },
    {
      "cell_type": "code",
      "source": [
        "#실습14\n",
        "#elementwise division\n",
        "print_val(m1/m2)\n",
        "print_val(np.divide(m1, m2))\n",
        "\n",
        "#elementwise square root\n",
        "print_val(np.sqrt(m1))"
      ],
      "metadata": {
        "colab": {
          "base_uri": "https://localhost:8080/"
        },
        "id": "BURG3fGiB8w4",
        "outputId": "1e3baca2-8c2c-4a21-aaf1-7222d1b3f246"
      },
      "execution_count": null,
      "outputs": [
        {
          "output_type": "stream",
          "name": "stdout",
          "text": [
            "Type: <class 'numpy.ndarray'>\n",
            "Shape: (2, 2)\n",
            "값:\n",
            " [[0.2        0.33333333]\n",
            " [0.42857143 0.5       ]]\n",
            " \n",
            "Type: <class 'numpy.ndarray'>\n",
            "Shape: (2, 2)\n",
            "값:\n",
            " [[0.2        0.33333333]\n",
            " [0.42857143 0.5       ]]\n",
            " \n",
            "Type: <class 'numpy.ndarray'>\n",
            "Shape: (2, 2)\n",
            "값:\n",
            " [[1.         1.41421356]\n",
            " [1.73205081 2.        ]]\n",
            " \n"
          ]
        }
      ]
    },
    {
      "cell_type": "code",
      "source": [
        "#실습15\n",
        "m1=np.array([[1,2], [3,4]]) #(2,2)\n",
        "m2=np.array([[5,6], [7,8]]) #(2,2)\n",
        "v1=np.array([9,10]) #(2,1) #[[9, 10]] (1,2)\n",
        "v2=np.array([11,12]) #(2,1)\n",
        "\n",
        "print_val(m1)\n",
        "print_val(m2)\n",
        "print_val(v1)\n",
        "print_val(v2)"
      ],
      "metadata": {
        "colab": {
          "base_uri": "https://localhost:8080/"
        },
        "id": "4mBQvsJFFA6Y",
        "outputId": "517231c7-d0af-4784-9d75-c986fe95b59f"
      },
      "execution_count": null,
      "outputs": [
        {
          "output_type": "stream",
          "name": "stdout",
          "text": [
            "Type: <class 'numpy.ndarray'>\n",
            "Shape: (2, 2)\n",
            "값:\n",
            " [[1 2]\n",
            " [3 4]]\n",
            " \n",
            "Type: <class 'numpy.ndarray'>\n",
            "Shape: (2, 2)\n",
            "값:\n",
            " [[5 6]\n",
            " [7 8]]\n",
            " \n",
            "Type: <class 'numpy.ndarray'>\n",
            "Shape: (2,)\n",
            "값:\n",
            " [ 9 10]\n",
            " \n",
            "Type: <class 'numpy.ndarray'>\n",
            "Shape: (2,)\n",
            "값:\n",
            " [11 12]\n",
            " \n"
          ]
        }
      ]
    },
    {
      "cell_type": "code",
      "source": [
        "#실습16\n",
        "#벡터-벡터 연산\n",
        "print_val(v1.dot(v2))\n",
        "print_val(np.dot(v1,v2))"
      ],
      "metadata": {
        "colab": {
          "base_uri": "https://localhost:8080/"
        },
        "id": "pFALbmY0FZsV",
        "outputId": "04fc9924-b5e9-488f-c03c-d4e55728ed56"
      },
      "execution_count": null,
      "outputs": [
        {
          "output_type": "stream",
          "name": "stdout",
          "text": [
            "Type: <class 'numpy.int64'>\n",
            "Shape: ()\n",
            "값:\n",
            " 219\n",
            " \n",
            "Type: <class 'numpy.int64'>\n",
            "Shape: ()\n",
            "값:\n",
            " 219\n",
            " \n"
          ]
        }
      ]
    },
    {
      "cell_type": "code",
      "source": [
        "#실습17\n",
        "#벡터-행렬 연산\n",
        "print_val(m1.dot(v1))\n",
        "print_val(np.dot(m1, v1))"
      ],
      "metadata": {
        "colab": {
          "base_uri": "https://localhost:8080/"
        },
        "id": "MACqUkqaFjAS",
        "outputId": "d2d06caf-4c47-427b-e899-a481ac75b9e8"
      },
      "execution_count": null,
      "outputs": [
        {
          "output_type": "stream",
          "name": "stdout",
          "text": [
            "Type: <class 'numpy.ndarray'>\n",
            "Shape: (2,)\n",
            "값:\n",
            " [29 67]\n",
            " \n",
            "Type: <class 'numpy.ndarray'>\n",
            "Shape: (2,)\n",
            "값:\n",
            " [29 67]\n",
            " \n"
          ]
        }
      ]
    },
    {
      "cell_type": "code",
      "source": [
        "#실습18\n",
        "#행렬-행렬 연산\\\n",
        "print_val(m1.dot(m2))\n",
        "print_val(np.dot(m1,m2))"
      ],
      "metadata": {
        "colab": {
          "base_uri": "https://localhost:8080/"
        },
        "id": "_JOKI7b9FzEv",
        "outputId": "fb0ef1bc-3e68-454a-ac92-8efbf9a57222"
      },
      "execution_count": null,
      "outputs": [
        {
          "output_type": "stream",
          "name": "stdout",
          "text": [
            "Type: <class 'numpy.ndarray'>\n",
            "Shape: (2, 2)\n",
            "값:\n",
            " [[19 22]\n",
            " [43 50]]\n",
            " \n",
            "Type: <class 'numpy.ndarray'>\n",
            "Shape: (2, 2)\n",
            "값:\n",
            " [[19 22]\n",
            " [43 50]]\n",
            " \n"
          ]
        }
      ]
    },
    {
      "cell_type": "code",
      "source": [
        "#실습19\n",
        "#전치 행렬(transpose)\n",
        "print_val(m1)\n",
        "print_val(m1.T)"
      ],
      "metadata": {
        "colab": {
          "base_uri": "https://localhost:8080/"
        },
        "id": "9G-nx3-QF5cG",
        "outputId": "482c3c40-c259-4757-8031-f21877a964f5"
      },
      "execution_count": null,
      "outputs": [
        {
          "output_type": "stream",
          "name": "stdout",
          "text": [
            "Type: <class 'numpy.ndarray'>\n",
            "Shape: (2, 2)\n",
            "값:\n",
            " [[1 2]\n",
            " [3 4]]\n",
            " \n",
            "Type: <class 'numpy.ndarray'>\n",
            "Shape: (2, 2)\n",
            "값:\n",
            " [[1 3]\n",
            " [2 4]]\n",
            " \n"
          ]
        }
      ]
    },
    {
      "cell_type": "code",
      "source": [
        "#실습20\n",
        "#sum\n",
        "print_val(np.sum(m1)) #행렬 모든 원소의 합\n",
        "print_val(np.sum(m1, axis=0)) # shape[0] (행)을 압축시키자. (2,2) -> (2,)\n",
        "print_val(np.sum(m1, axis=1)) # shape[1] (열)을 압축시키자. (2,2) -> (2,)"
      ],
      "metadata": {
        "colab": {
          "base_uri": "https://localhost:8080/"
        },
        "id": "6kht90h6GBqA",
        "outputId": "f313c2a0-a92c-4d7c-a394-432b9f6bf50a"
      },
      "execution_count": null,
      "outputs": [
        {
          "output_type": "stream",
          "name": "stdout",
          "text": [
            "Type: <class 'numpy.int64'>\n",
            "Shape: ()\n",
            "값:\n",
            " 10\n",
            " \n",
            "Type: <class 'numpy.ndarray'>\n",
            "Shape: (2,)\n",
            "값:\n",
            " [4 6]\n",
            " \n",
            "Type: <class 'numpy.ndarray'>\n",
            "Shape: (2,)\n",
            "값:\n",
            " [3 7]\n",
            " \n"
          ]
        }
      ]
    },
    {
      "cell_type": "code",
      "source": [
        "#실습21\n",
        "m1= np.array([[1,2,3], [4,5,6]])\n",
        "print(m1)\n",
        "print(m1.shape) #(2,3)\n",
        "\n",
        "print (np.sum(m1))\n",
        "print (np.sum(m1, axis=0)) # shape[0] (행)을 압축시키자. (2,3) -> (2,)\n",
        "print (np.sum(m1, axis=1)) # shape[1] (열)을 압축시키자. (2,3) -> (2,)"
      ],
      "metadata": {
        "colab": {
          "base_uri": "https://localhost:8080/"
        },
        "id": "4w6YkZ6uGddO",
        "outputId": "8e736e02-a451-426c-e22c-dec21bb489c7"
      },
      "execution_count": null,
      "outputs": [
        {
          "output_type": "stream",
          "name": "stdout",
          "text": [
            "[[1 2 3]\n",
            " [4 5 6]]\n",
            "(2, 3)\n",
            "21\n",
            "[5 7 9]\n",
            "[ 6 15]\n"
          ]
        }
      ]
    },
    {
      "cell_type": "code",
      "source": [
        "#실습22\n",
        "m1= np.array([[1,2,3],\n",
        "              [4,5,6],\n",
        "              [7,8,9],\n",
        "              [10,11,12]])\n",
        "\n",
        "m2 = np.zeros_like(m1) #m1과 같은 형태의 0으로 이루어진 np array\n",
        "print_val(m1)\n",
        "print_val(m2)"
      ],
      "metadata": {
        "colab": {
          "base_uri": "https://localhost:8080/"
        },
        "id": "L_89rvlKGjS6",
        "outputId": "e754a932-821e-4a3c-a15d-67d745a71276"
      },
      "execution_count": null,
      "outputs": [
        {
          "output_type": "stream",
          "name": "stdout",
          "text": [
            "Type: <class 'numpy.ndarray'>\n",
            "Shape: (4, 3)\n",
            "값:\n",
            " [[ 1  2  3]\n",
            " [ 4  5  6]\n",
            " [ 7  8  9]\n",
            " [10 11 12]]\n",
            " \n",
            "Type: <class 'numpy.ndarray'>\n",
            "Shape: (4, 3)\n",
            "값:\n",
            " [[0 0 0]\n",
            " [0 0 0]\n",
            " [0 0 0]\n",
            " [0 0 0]]\n",
            " \n"
          ]
        }
      ]
    },
    {
      "cell_type": "code",
      "source": [
        "#실습23\n",
        "#Matplot library\n",
        "import matplotlib.pyplot as plt\n",
        "%matplotlib inline\n",
        "\n",
        "#sin 커브\n",
        "x=np.arange(0, 10, 0.1) # 0~10까지 0.1 간격의 숫자 배열\n",
        "y=np.sin(x)\n",
        "\n",
        "plt.plot(x,y)"
      ],
      "metadata": {
        "colab": {
          "base_uri": "https://localhost:8080/",
          "height": 448
        },
        "id": "muNhzmViH0P9",
        "outputId": "ca51ffbc-9bdc-4a9b-fa00-d0efd7a67a13"
      },
      "execution_count": null,
      "outputs": [
        {
          "output_type": "execute_result",
          "data": {
            "text/plain": [
              "[<matplotlib.lines.Line2D at 0x7801a48dc6d0>]"
            ]
          },
          "metadata": {},
          "execution_count": 28
        },
        {
          "output_type": "display_data",
          "data": {
            "text/plain": [
              "<Figure size 640x480 with 1 Axes>"
            ],
            "image/png": "[encoded data removed]"
          },
          "metadata": {}
        }
      ]
    },
    {
      "cell_type": "code",
      "source": [
        "#실습24\n",
        "#한 번에 두 개 그래프 그리기\n",
        "y_sin=np.sin(x)\n",
        "y_cos=np.cos(x)\n",
        "\n",
        "plt.plot(x, y_sin)\n",
        "plt.plot(x, y_cos)\n",
        "plt.xlabel('x axis label')\n",
        "plt.xlabel('y axis label')\n",
        "plt.title('sin and cos')\n",
        "plt.legend(['sin', 'cos'])\n",
        "\n",
        "plt.show()"
      ],
      "metadata": {
        "colab": {
          "base_uri": "https://localhost:8080/",
          "height": 472
        },
        "id": "2nA0BcIfIPqf",
        "outputId": "baaa0786-0048-4a87-ebed-c176310ef73f"
      },
      "execution_count": null,
      "outputs": [
        {
          "output_type": "display_data",
          "data": {
            "text/plain": [
              "<Figure size 640x480 with 1 Axes>"
            ],
            "image/png": "[encoded data removed]"
          },
          "metadata": {}
        }
      ]
    },
    {
      "cell_type": "code",
      "source": [
        "#실습25\n",
        "plt.subplot(2,1,1) #(2,1) 형태 플릿의 첫 번째 자리에 그리겠다\n",
        "plt.plot(x, y_sin)\n",
        "plt.title('sin')\n",
        "\n",
        "plt.subplot(2,1,2)\n",
        "plt.plot(x, y_cos)\n",
        "plt.title('cos')\n",
        "\n",
        "plt.show()"
      ],
      "metadata": {
        "colab": {
          "base_uri": "https://localhost:8080/",
          "height": 452
        },
        "id": "FL7ZtIfMINoN",
        "outputId": "0dafa4b1-6f01-403d-ed05-3b7de6e06db7"
      },
      "execution_count": null,
      "outputs": [
        {
          "output_type": "display_data",
          "data": {
            "text/plain": [
              "<Figure size 640x480 with 2 Axes>"
            ],
            "image/png": "[encoded data removed]"
          },
          "metadata": {}
        }
      ]
    }
  ]
}